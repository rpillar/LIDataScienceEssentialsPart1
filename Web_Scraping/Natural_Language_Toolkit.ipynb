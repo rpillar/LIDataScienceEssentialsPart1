{
 "cells": [
  {
   "cell_type": "markdown",
   "metadata": {},
   "source": [
    "## Nature Language Processing\n",
    "\n",
    "Processing text - paragraphs, sentences, words is something that humans do intuitivly. When using Python we can make use of the Natural Language Toolkit (NLTK) to help use do this programatically."
   ]
  },
  {
   "cell_type": "markdown",
   "metadata": {},
   "source": [
    "In this file we will _just_ look at a Frequency Distribution Plot given a piece of text - there is a lot more background details that need to be understood.\n",
    "\n",
    "A plot of this type can be used for sentiment analysis and to understand the distribution of words.\n",
    "\n",
    "Note - an extensive tutorial can be found here :- https://realpython.com/python-nltk-sentiment-analysis/"
   ]
  },
  {
   "cell_type": "code",
   "execution_count": null,
   "metadata": {},
   "outputs": [],
   "source": []
  }
 ],
 "metadata": {
  "interpreter": {
   "hash": "aee8b7b246df8f9039afb4144a1f6fd8d2ca17a180786b69acc140d282b71a49"
  },
  "kernelspec": {
   "display_name": "Python 3.10.7 64-bit",
   "language": "python",
   "name": "python3"
  },
  "language_info": {
   "name": "python",
   "version": "3.10.7"
  },
  "orig_nbformat": 4
 },
 "nbformat": 4,
 "nbformat_minor": 2
}
